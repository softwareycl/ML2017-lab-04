{
 "cells": [
  {
   "cell_type": "code",
   "execution_count": 1,
   "metadata": {},
   "outputs": [
    {
     "data": {
      "image/png": "[encoded data removed]",
      "text/plain": [
       "<matplotlib.figure.Figure at 0xad01d091d0>"
      ]
     },
     "metadata": {},
     "output_type": "display_data"
    }
   ],
   "source": [
    "# write your code here\n",
    "import numpy as np\n",
    "import matplotlib.pyplot as plt\n",
    "\n",
    "def als(R_train, R_test, K, alpha, beta, iteration):\n",
    "    P = np.random.rand(R_train.shape[0], K)\n",
    "    Q = np.random.rand(K, R_train.shape[1])\n",
    "    Loss = []\n",
    "    L = loss(R_test, P, Q, beta)\n",
    "    Loss.append(L)\n",
    "    #训练P，Q矩阵\n",
    "    for i in range(iteration):\n",
    "        for m in range (R_train.shape[0]):\n",
    "            for n in range (R_train.shape[1]):\n",
    "                if R_train[m][n] > 0:\n",
    "                    eij = R_train[m][n] - np.dot(P[m,:], Q[:,n])\n",
    "                    for k in range(K):\n",
    "                        P[m, k] = P[m, k] + alpha * (2 * eij * Q[k, n] - beta * P[m, k])\n",
    "                        Q[k, n] = Q[k, n] + alpha * (2 * eij * P[m, k] - beta * Q[k, n])\n",
    "        L = loss(R_test, P, Q, beta)\n",
    "        Loss.append(L)\n",
    "    return P, Q, Loss\n",
    "\n",
    "#损失函数\n",
    "def loss(R, P, Q, beta):\n",
    "    L0 = np.sum((R - np.dot(P, Q))**2)\n",
    "    L1 = beta * (np.sum(P**2) + np.sum(Q**2))\n",
    "    L = (L0 + L1) / (R.shape[0] * R.shape[1])\n",
    "    return L\n",
    "\n",
    "R_train = np.zeros((943, 1682))\n",
    "R_test = np.zeros((943, 1682))\n",
    "\n",
    "#读取数据，填充原始评分矩阵\n",
    "for i in range(1):\n",
    "    f0 = 'G:\\\\MLcode\\\\data\\\\ml-100k\\\\u%d.base' %(i+1)\n",
    "    f1 = 'G:\\\\MLcode\\\\data\\\\ml-100k\\\\u%d.test' %(i+1)\n",
    "    X_train = np.loadtxt(f0, usecols=(0,1,2))\n",
    "    X_test = np.loadtxt(f1, usecols=(0,1,2))\n",
    "    for j in range(X_train.shape[0]):\n",
    "        x = int(X_train[j, 0]-1)\n",
    "        y = int(X_train[j, 1]-1)\n",
    "        R_train[x, y] = X_train[j, 2]\n",
    "    for j in range(X_test.shape[0]):\n",
    "        x = int(X_test[j, 0]-1)\n",
    "        y = int(X_test[j, 1]-1)\n",
    "        R_test[x, y] = X_test[j, 2]\n",
    "        \n",
    "K = 50\n",
    "alpha = 0.002\n",
    "beta = 0.02\n",
    "iteration = 20\n",
    "        \n",
    "P, Q, Loss = als(R_train, R_test, K, alpha, beta, iteration)\n",
    "        \n",
    "plt.xlabel('Iterations')\n",
    "plt.ylabel('Loss')\n",
    "plt.plot(Loss, color = 'blue')\n",
    "plt.show()"
   ]
  },
  {
   "cell_type": "code",
   "execution_count": null,
   "metadata": {
    "collapsed": true
   },
   "outputs": [],
   "source": []
  }
 ],
 "metadata": {
  "kernelspec": {
   "display_name": "Python 3",
   "language": "python",
   "name": "python3"
  },
  "language_info": {
   "codemirror_mode": {
    "name": "ipython",
    "version": 3
   },
   "file_extension": ".py",
   "mimetype": "text/x-python",
   "name": "python",
   "nbconvert_exporter": "python",
   "pygments_lexer": "ipython3",
   "version": "3.6.3"
  }
 },
 "nbformat": 4,
 "nbformat_minor": 2
}
